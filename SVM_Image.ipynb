{
 "cells": [
  {
   "cell_type": "code",
   "execution_count": 1,
   "id": "43dd3243",
   "metadata": {},
   "outputs": [],
   "source": [
    "import numpy as np\n",
    "import matplotlib.pyplot as plt\n",
    "from sklearn import svm, metrics, datasets\n",
    "from sklearn.metrics import confusion_matrix, recall_score\n",
    "from sklearn.utils import Bunch\n",
    "from sklearn.model_selection import GridSearchCV, train_test_split\n",
    "from pathlib import Path\n",
    "from skimage.io import imread\n",
    "from skimage.transform import resize\n",
    "from skimage.color import rgb2gray\n",
    "from tqdm import tqdm\n",
    "import seaborn as sns\n",
    "import os\n",
    "import cv2\n",
    "from tqdm import tqdm"
   ]
  },
  {
   "cell_type": "code",
   "execution_count": 2,
   "id": "b03e27b9",
   "metadata": {},
   "outputs": [],
   "source": [
    "train_path = r\"C:\\Users\\BlackFlameSG\\Documents\\Python Scripts\\ML\\Project\\ANN_Image\\gender_eye\\data\\train\"\n",
    "test_path = r\"C:\\Users\\BlackFlameSG\\Documents\\Python Scripts\\ML\\Project\\ANN_Image\\gender_eye\\data\\test\"\n",
    "CATEGORIES = [\"femaleeyes\", \"maleeyes\"]"
   ]
  },
  {
   "cell_type": "code",
   "execution_count": 3,
   "id": "f3df7f14",
   "metadata": {},
   "outputs": [],
   "source": [
    "#import splitfolders\n",
    "#indata = r\"C:\\Users\\BlackFlameSG\\Documents\\Python Scripts\\ML\\Project\\ANN_Image\\gender_eye\\dataset\"\n",
    "#outdata = r\"C:\\Users\\BlackFlameSG\\Documents\\Python Scripts\\ML\\Project\\ANN_Image\\gender_eye\\data\"\n",
    "#splitfolders.ratio(indata, output=outdata, seed=1337, ratio=(.8, 0.2))"
   ]
  },
  {
   "cell_type": "code",
   "execution_count": 4,
   "id": "51be9ae0",
   "metadata": {},
   "outputs": [],
   "source": [
    "IMG_SIZE = 32"
   ]
  },
  {
   "cell_type": "code",
   "execution_count": 5,
   "id": "4c442ec7",
   "metadata": {},
   "outputs": [],
   "source": [
    "def create_data(DATADIR):\n",
    "    image_dir = Path(DATADIR)\n",
    "    folders = [directory for directory in image_dir.iterdir() if directory.is_dir()]\n",
    "    categories = [fo.name for fo in folders]\n",
    "    images = []\n",
    "    flat_data = []\n",
    "    target = []\n",
    "    for i, direc in enumerate(folders):\n",
    "        for file in tqdm(direc.iterdir()):\n",
    "            img = imread(file)\n",
    "            img_resized = resize(img, (IMG_SIZE,IMG_SIZE), anti_aliasing=True)\n",
    "            img_gray = rgb2gray(img_resized)\n",
    "            flat_data.append(img_gray.flatten()) \n",
    "            images.append(img_gray)\n",
    "            target.append(i)\n",
    "    flat_data = np.array(flat_data)\n",
    "    target = np.array(target)\n",
    "    images = np.array(images)\n",
    "\n",
    "    return Bunch(data=flat_data,\n",
    "                target=target,\n",
    "                images=images)"
   ]
  },
  {
   "cell_type": "code",
   "execution_count": 6,
   "id": "d5e112a1",
   "metadata": {},
   "outputs": [
    {
     "name": "stderr",
     "output_type": "stream",
     "text": [
      "4161it [01:10, 59.31it/s]\n",
      "5058it [01:38, 51.20it/s]\n",
      "1041it [00:16, 62.26it/s]\n",
      "1265it [00:25, 50.14it/s]\n"
     ]
    }
   ],
   "source": [
    "train_data = create_data(train_path)\n",
    "test_data = create_data(test_path)"
   ]
  },
  {
   "cell_type": "code",
   "execution_count": 7,
   "id": "4c75a2d6",
   "metadata": {},
   "outputs": [
    {
     "name": "stdout",
     "output_type": "stream",
     "text": [
      "9219\n",
      "2306\n"
     ]
    }
   ],
   "source": [
    "print(len(train_data.data))\n",
    "print(len(test_data.data))"
   ]
  },
  {
   "cell_type": "code",
   "execution_count": 8,
   "id": "56731984",
   "metadata": {},
   "outputs": [],
   "source": [
    "X_train, X_test, y_train, y_test = train_data.data, test_data.data, train_data.target, test_data.target"
   ]
  },
  {
   "cell_type": "code",
   "execution_count": 9,
   "id": "936405a9",
   "metadata": {},
   "outputs": [
    {
     "data": {
      "text/plain": [
       "SVC(C=1, kernel='poly')"
      ]
     },
     "execution_count": 9,
     "metadata": {},
     "output_type": "execute_result"
    }
   ],
   "source": [
    "clf = svm.SVC(kernel='poly', C=1)\n",
    "clf.fit(X_train, y_train)"
   ]
  },
  {
   "cell_type": "code",
   "execution_count": 10,
   "id": "4eca1d53",
   "metadata": {},
   "outputs": [
    {
     "data": {
      "text/plain": [
       "0.8720728534258456"
      ]
     },
     "execution_count": 10,
     "metadata": {},
     "output_type": "execute_result"
    }
   ],
   "source": [
    "clf.score(X_test,y_test)"
   ]
  },
  {
   "cell_type": "code",
   "execution_count": 11,
   "id": "1abf7383",
   "metadata": {},
   "outputs": [],
   "source": [
    "#Predict the response for test dataset\n",
    "y_pred = clf.predict(X_test)"
   ]
  },
  {
   "cell_type": "code",
   "execution_count": 12,
   "id": "ad02aae3",
   "metadata": {},
   "outputs": [
    {
     "name": "stdout",
     "output_type": "stream",
     "text": [
      "Accuracy: 0.8720728534258456\n",
      "Precision: 0.8734168926414396\n"
     ]
    }
   ],
   "source": [
    "# Model Accuracy: how often is the classifier correct?\n",
    "print(\"Accuracy:\",metrics.accuracy_score(y_test, y_pred))\n",
    "\n",
    "# Model Precision: what percentage of positive tuples are labeled as such?\n",
    "print(\"Precision:\",metrics.precision_score(y_test, y_pred, average=\"macro\"))"
   ]
  },
  {
   "cell_type": "code",
   "execution_count": 13,
   "id": "298690f5",
   "metadata": {},
   "outputs": [
    {
     "name": "stdout",
     "output_type": "stream",
     "text": [
      "Recall: 0.8720728534258456\n"
     ]
    }
   ],
   "source": [
    "# Model Recall: what percentage of positive tuples are labelled as such?\n",
    "recall_average = recall_score(y_test,y_pred, average=\"micro\")\n",
    "print(\"Recall:\",recall_average)"
   ]
  },
  {
   "cell_type": "code",
   "execution_count": 14,
   "id": "93230f8d",
   "metadata": {},
   "outputs": [],
   "source": [
    "#confusion matrix\n",
    "import pandas as pd\n",
    "conf_matrix = confusion_matrix(y_test, y_pred)\n",
    "conf_matrix = pd.DataFrame(conf_matrix, index=CATEGORIES, columns=CATEGORIES)"
   ]
  },
  {
   "cell_type": "code",
   "execution_count": 15,
   "id": "b9b01195",
   "metadata": {},
   "outputs": [
    {
     "data": {
      "text/plain": [
       "<AxesSubplot:>"
      ]
     },
     "execution_count": 15,
     "metadata": {},
     "output_type": "execute_result"
    },
    {
     "data": {
      "image/png": "[encoded data removed]",
      "text/plain": [
       "<Figure size 432x288 with 2 Axes>"
      ]
     },
     "metadata": {
      "needs_background": "light"
     },
     "output_type": "display_data"
    }
   ],
   "source": [
    "sns.heatmap(conf_matrix, annot=True, linewidths=1, fmt='g')"
   ]
  },
  {
   "cell_type": "code",
   "execution_count": 16,
   "id": "3566245a",
   "metadata": {},
   "outputs": [
    {
     "data": {
      "image/png": "[encoded data removed]",
      "text/plain": [
       "<Figure size 432x288 with 1 Axes>"
      ]
     },
     "metadata": {
      "needs_background": "light"
     },
     "output_type": "display_data"
    }
   ],
   "source": [
    "#roc_auc_score\n",
    "\n",
    "fpr, tpr, _ = metrics.roc_curve(y_test, y_pred) #fpr = False Positive Rate, tpr = True Positive Rate\n",
    "roc_auc = metrics.auc(fpr, tpr)\n",
    "\n",
    "plt.title('Reciever Operetor Characteristic')\n",
    "plt.plot(fpr, tpr, label = 'AUC = %0.2f' % roc_auc)\n",
    "plt.legend(loc = 'lower right')\n",
    "plt.plot([0, 1], [0, 1])\n",
    "plt.xlim([0, 1])\n",
    "plt.ylim([0, 1])\n",
    "plt.ylabel('True Positive Rate')\n",
    "plt.xlabel('False Positive Rate')\n",
    "plt.show()"
   ]
  },
  {
   "cell_type": "code",
   "execution_count": null,
   "id": "5821c18a",
   "metadata": {},
   "outputs": [],
   "source": []
  }
 ],
 "metadata": {
  "kernelspec": {
   "display_name": "Python 3",
   "language": "python",
   "name": "python3"
  },
  "language_info": {
   "codemirror_mode": {
    "name": "ipython",
    "version": 3
   },
   "file_extension": ".py",
   "mimetype": "text/x-python",
   "name": "python",
   "nbconvert_exporter": "python",
   "pygments_lexer": "ipython3",
   "version": "3.8.8"
  }
 },
 "nbformat": 4,
 "nbformat_minor": 5
}
